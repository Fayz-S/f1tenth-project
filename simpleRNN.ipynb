{
  "nbformat": 4,
  "nbformat_minor": 0,
  "metadata": {
    "colab": {
      "name": "Untitled0.ipynb",
      "provenance": [],
      "collapsed_sections": [],
      "machine_shape": "hm",
      "mount_file_id": "https://github.com/JZ76/f1tenth_simulator_two_agents/blob/master/simpleRNN.ipynb",
      "authorship_tag": "ABX9TyOJuJh70IzvFzINiAC+C1zD",
      "include_colab_link": true
    },
    "kernelspec": {
      "name": "python3",
      "display_name": "Python 3"
    },
    "language_info": {
      "name": "python"
    }
  },
  "cells": [
    {
      "cell_type": "markdown",
      "metadata": {
        "id": "view-in-github",
        "colab_type": "text"
      },
      "source": [
        "<a href=\"https://colab.research.google.com/github/JZ76/f1tenth_simulator_two_agents/blob/master/simpleRNN.ipynb\" target=\"_parent\"><img src=\"https://colab.research.google.com/assets/colab-badge.svg\" alt=\"Open In Colab\"/></a>"
      ]
    },
    {
      "cell_type": "code",
      "source": [
        "%tensorflow_version 1.x"
      ],
      "metadata": {
        "colab": {
          "base_uri": "https://localhost:8080/"
        },
        "id": "keK9rSocIyTL",
        "outputId": "0bef8764-30a0-452d-b527-8da7943ca9ba"
      },
      "execution_count": null,
      "outputs": [
        {
          "output_type": "stream",
          "name": "stdout",
          "text": [
            "TensorFlow 1.x selected.\n"
          ]
        }
      ]
    },
    {
      "cell_type": "code",
      "source": [
        "pip install -U numpy==1.18.5"
      ],
      "metadata": {
        "colab": {
          "base_uri": "https://localhost:8080/"
        },
        "id": "59g-KUSOjrdR",
        "outputId": "e7c03a16-c14d-4c8b-a8c5-ce9b139cb7d5"
      },
      "execution_count": 17,
      "outputs": [
        {
          "output_type": "stream",
          "name": "stdout",
          "text": [
            "Looking in indexes: https://pypi.org/simple, https://us-python.pkg.dev/colab-wheels/public/simple/\n",
            "Requirement already satisfied: numpy==1.18.5 in /usr/local/lib/python3.7/dist-packages (1.18.5)\n"
          ]
        }
      ]
    },
    {
      "cell_type": "code",
      "source": [
        "import tensorflow\n",
        "print(tensorflow.__version__)"
      ],
      "metadata": {
        "colab": {
          "base_uri": "https://localhost:8080/"
        },
        "id": "HjSLPTNCItg2",
        "outputId": "ce799d9f-1e3d-4719-d633-07ae4917c932"
      },
      "execution_count": 1,
      "outputs": [
        {
          "output_type": "stream",
          "name": "stdout",
          "text": [
            "2.8.2\n"
          ]
        }
      ]
    },
    {
      "cell_type": "code",
      "execution_count": 2,
      "metadata": {
        "id": "3H6GBlaC8kVo"
      },
      "outputs": [],
      "source": [
        "import numpy as np\n",
        "import pandas as pd\n",
        "import matplotlib.pyplot as plt\n",
        "\n",
        "\n",
        "from tensorflow.python.keras.models import Sequential, Model, load_model\n",
        "from tensorflow.python.keras.layers import LSTM, Dense, Input, CuDNNLSTM, Masking, Embedding, SimpleRNN, concatenate\n",
        "\n",
        "import os\n",
        "import re\n",
        "import gc"
      ]
    },
    {
      "cell_type": "code",
      "source": [
        "def loading_data(folder):\n",
        "    check_name = re.compile('^ML')\n",
        "    datasets = []\n",
        "    for filename in sorted(os.listdir(folder)):\n",
        "        files = os.path.join(folder, filename)\n",
        "        if re.match(check_name, filename) and os.path.isfile(files):\n",
        "            temp = pd.read_csv(files, skiprows=1, header=None).iloc[:, :-1]\n",
        "            temp[0] = temp[0].map(lambda t : t/16.0)\n",
        "            temp[1] = temp[1].map(lambda t : t/0.192)\n",
        "            datasets.append(np.array(temp, dtype=float))\n",
        "\n",
        "    gc.collect()\n",
        "    return datasets"
      ],
      "metadata": {
        "id": "qbyrkpPFFCFK"
      },
      "execution_count": 3,
      "outputs": []
    },
    {
      "cell_type": "code",
      "source": [
        "def loading_speed_steering_data(folder):\n",
        "    check_name = re.compile('^car')\n",
        "    datasets = []\n",
        "    for filename in sorted(os.listdir(folder)):\n",
        "        files = os.path.join(folder, filename)\n",
        "        if re.match(check_name, filename) and os.path.isfile(files):\n",
        "            datasets.append(np.array(pd.read_csv(files).iloc[:, [3, 5]], dtype=float))\n",
        "\n",
        "    gc.collect()\n",
        "    return datasets"
      ],
      "metadata": {
        "id": "ijuQd7Zex1W8"
      },
      "execution_count": 4,
      "outputs": []
    },
    {
      "cell_type": "code",
      "source": [
        "folder = \"/content/drive/MyDrive/datasets\"\n",
        "datasets = loading_data(folder)\n",
        "speed_steering = loading_speed_steering_data(folder)"
      ],
      "metadata": {
        "id": "YCJQh8HmFWmR"
      },
      "execution_count": 5,
      "outputs": []
    },
    {
      "cell_type": "code",
      "source": [
        "training_data = datasets"
      ],
      "metadata": {
        "id": "TNdLpRpOnrAr"
      },
      "execution_count": 6,
      "outputs": []
    },
    {
      "cell_type": "code",
      "source": [
        "speed_steering_train = speed_steering"
      ],
      "metadata": {
        "id": "Ia99VvluHdB-"
      },
      "execution_count": 7,
      "outputs": []
    },
    {
      "cell_type": "code",
      "source": [
        "X = []\n",
        "y = []\n",
        "max_seq_len = 0\n",
        "for x in training_data:\n",
        "    X.append(x[:, 2:])\n",
        "    y.append(x[:, 0:2])\n",
        "    max_seq_len = max(max_seq_len, x.shape[0])"
      ],
      "metadata": {
        "id": "vccjXNqZge2n"
      },
      "execution_count": 8,
      "outputs": []
    },
    {
      "cell_type": "code",
      "source": [
        "special_value = -100.0"
      ],
      "metadata": {
        "id": "lds_5E2QhIu2"
      },
      "execution_count": 9,
      "outputs": []
    },
    {
      "cell_type": "code",
      "source": [
        "Xpad = tensorflow.keras.preprocessing.sequence.pad_sequences(\n",
        "    X, padding=\"post\", value=special_value\n",
        ")"
      ],
      "metadata": {
        "id": "bKOfIl6-JEgW"
      },
      "execution_count": 10,
      "outputs": []
    },
    {
      "cell_type": "code",
      "source": [
        "ypad = tensorflow.keras.preprocessing.sequence.pad_sequences(\n",
        "    y, padding=\"post\", value=special_value\n",
        ")"
      ],
      "metadata": {
        "id": "l985mVrylk7H"
      },
      "execution_count": 11,
      "outputs": []
    },
    {
      "cell_type": "code",
      "source": [
        "Xpad = []\n",
        "ypad = []\n",
        "for i in range(100):\n",
        "    Xpad.append(np.full((max_seq_len, 1081), fill_value=special_value))\n",
        "    ypad.append(np.full((max_seq_len, 2), fill_value=special_value))\n",
        "\n",
        "for s, x in enumerate(X):\n",
        "    seq_len = x.shape[0]\n",
        "    Xpad[s][0:seq_len, :] = x\n",
        "\n",
        "for s, x in enumerate(y):\n",
        "    seq_len = x.shape[0]\n",
        "    ypad[s][0:seq_len, :] = x"
      ],
      "metadata": {
        "id": "N4nDQ-xFh5rL"
      },
      "execution_count": null,
      "outputs": []
    },
    {
      "cell_type": "code",
      "source": [
        "training_data = []\n",
        "X = []\n",
        "y = []\n",
        "gc.collect()\n"
      ],
      "metadata": {
        "id": "ceWJcXCoz6Lj",
        "outputId": "4e261968-d22c-4ce2-ada8-ca31f148cf47",
        "colab": {
          "base_uri": "https://localhost:8080/"
        }
      },
      "execution_count": 12,
      "outputs": [
        {
          "output_type": "execute_result",
          "data": {
            "text/plain": [
              "102"
            ]
          },
          "metadata": {},
          "execution_count": 12
        }
      ]
    },
    {
      "cell_type": "code",
      "source": [
        "Xpad = np.asarray(Xpad)\n",
        "ypad = np.asarray(ypad)\n"
      ],
      "metadata": {
        "id": "gcmfqwot3lZf"
      },
      "execution_count": null,
      "outputs": []
    },
    {
      "cell_type": "code",
      "source": [
        "padded_inputs = tensorflow.keras.preprocessing.sequence.pad_sequences(\n",
        "    speed_steering_train, padding=\"post\", value=special_value\n",
        ")"
      ],
      "metadata": {
        "id": "3s7e20TA1aWu"
      },
      "execution_count": 13,
      "outputs": []
    },
    {
      "cell_type": "code",
      "source": [
        "# LSTM_model = Sequential([\n",
        "#         Masking(input_shape=(max_seq_len, 1081), mask_value=special_value),\n",
        "#         SimpleRNN(50, return_sequences=True, input_shape=(None, 1081)),\n",
        "#         Input(),\n",
        "#         Dense(64, activation=\"relu\")\n",
        "#         Dense(32, activation=\"sigmoid\")\n",
        "#         Dense(2)\n",
        "# ])\n",
        "inputA = Input(shape=(None, 1081))\n",
        "A = Masking(input_shape=(None, 1081), mask_value=special_value)(inputA)\n",
        "inputB = Input(shape=(None, 2))\n",
        "B = Masking(input_shape=(None, 2), mask_value=special_value)(inputB)\n",
        "\n",
        "x = Dense(500, activation=\"relu\")(A)\n",
        "x = SimpleRNN(400, return_sequences=True, input_shape=(None, 1081))(x)\n",
        "\n",
        "# x = Dense(200, activation=\"tanh\")(A)\n",
        "# m = Model(inputs=inputA, outputs=x)\n",
        "\n",
        "combined = concatenate([x, B], axis=2)\n",
        "z = Dense(150, activation=\"selu\")(combined)\n",
        "# z = Dense(64, activation=\"tanh\")(z)\n",
        "z = Dense(32, activation=\"tanh\")(z)\n",
        "z = Dense(2, activation=\"tanh\")(z)\n",
        "LSTM_model = Model(inputs=[inputA, inputB], outputs=z)"
      ],
      "metadata": {
        "id": "o0Ol5sJtgp0i"
      },
      "execution_count": null,
      "outputs": []
    },
    {
      "cell_type": "code",
      "source": [
        "LSTM_model = load_model(\"/content/drive/MyDrive/models/model_RNN_13\")"
      ],
      "metadata": {
        "id": "IZsvOpai2HBb"
      },
      "execution_count": 18,
      "outputs": []
    },
    {
      "cell_type": "code",
      "source": [
        "LSTM_model.compile(loss=\"mean_squared_error\", optimizer=\"RMSprop\", metrics=['mean_squared_error'])\n",
        "LSTM_model.summary()\n",
        "LSTM_model.fit([Xpad, padded_inputs], ypad, epochs=10, batch_size=5)"
      ],
      "metadata": {
        "colab": {
          "base_uri": "https://localhost:8080/"
        },
        "id": "4BVEOqXghYlh",
        "outputId": "79beef84-1ee2-4b70-f294-1715149cbd85"
      },
      "execution_count": 19,
      "outputs": [
        {
          "output_type": "stream",
          "name": "stdout",
          "text": [
            "Model: \"model\"\n",
            "__________________________________________________________________________________________________\n",
            "Layer (type)                    Output Shape         Param #     Connected to                     \n",
            "==================================================================================================\n",
            "input_1 (InputLayer)            [(None, None, 1081)] 0                                            \n",
            "__________________________________________________________________________________________________\n",
            "masking (Masking)               (None, None, 1081)   0           input_1[0][0]                    \n",
            "__________________________________________________________________________________________________\n",
            "dense (Dense)                   (None, None, 500)    541000      masking[0][0]                    \n",
            "__________________________________________________________________________________________________\n",
            "input_2 (InputLayer)            [(None, None, 2)]    0                                            \n",
            "__________________________________________________________________________________________________\n",
            "simple_rnn (SimpleRNN)          (None, None, 150)    97650       dense[0][0]                      \n",
            "__________________________________________________________________________________________________\n",
            "masking_1 (Masking)             (None, None, 2)      0           input_2[0][0]                    \n",
            "__________________________________________________________________________________________________\n",
            "concatenate (Concatenate)       (None, None, 152)    0           simple_rnn[0][0]                 \n",
            "                                                                 masking_1[0][0]                  \n",
            "__________________________________________________________________________________________________\n",
            "dense_1 (Dense)                 (None, None, 150)    22950       concatenate[0][0]                \n",
            "__________________________________________________________________________________________________\n",
            "dense_2 (Dense)                 (None, None, 64)     9664        dense_1[0][0]                    \n",
            "__________________________________________________________________________________________________\n",
            "dense_3 (Dense)                 (None, None, 32)     2080        dense_2[0][0]                    \n",
            "__________________________________________________________________________________________________\n",
            "dense_4 (Dense)                 (None, None, 2)      66          dense_3[0][0]                    \n",
            "==================================================================================================\n",
            "Total params: 673,410\n",
            "Trainable params: 673,410\n",
            "Non-trainable params: 0\n",
            "__________________________________________________________________________________________________\n",
            "Epoch 1/10\n",
            "39/39 [==============================] - 310s 8s/step - loss: 0.0156 - mean_squared_error: 0.0497\n",
            "Epoch 2/10\n",
            "39/39 [==============================] - 307s 8s/step - loss: 0.0141 - mean_squared_error: 0.0449\n",
            "Epoch 3/10\n",
            "39/39 [==============================] - 305s 8s/step - loss: 0.0131 - mean_squared_error: 0.0416\n",
            "Epoch 4/10\n",
            "39/39 [==============================] - 307s 8s/step - loss: 0.0129 - mean_squared_error: 0.0409\n",
            "Epoch 5/10\n",
            "39/39 [==============================] - 308s 8s/step - loss: 0.0129 - mean_squared_error: 0.0411\n",
            "Epoch 6/10\n",
            "39/39 [==============================] - 308s 8s/step - loss: 0.0127 - mean_squared_error: 0.0403\n",
            "Epoch 7/10\n",
            "39/39 [==============================] - 309s 8s/step - loss: 0.0125 - mean_squared_error: 0.0399\n",
            "Epoch 8/10\n",
            "39/39 [==============================] - 309s 8s/step - loss: 0.0124 - mean_squared_error: 0.0395\n",
            "Epoch 9/10\n",
            "39/39 [==============================] - 306s 8s/step - loss: 0.0122 - mean_squared_error: 0.0388\n",
            "Epoch 10/10\n",
            "39/39 [==============================] - 307s 8s/step - loss: 0.0118 - mean_squared_error: 0.0375\n"
          ]
        },
        {
          "output_type": "execute_result",
          "data": {
            "text/plain": [
              "<tensorflow.python.keras.callbacks.History at 0x7f0b1c023f90>"
            ]
          },
          "metadata": {},
          "execution_count": 19
        }
      ]
    },
    {
      "cell_type": "code",
      "source": [
        "testing_X = []\n",
        "testing_y = []\n",
        "\n",
        "for x in testing_data:\n",
        "    testing_X.append(x[:, 2:])\n",
        "    testing_y.append(x[:, 0:2])\n",
        "    "
      ],
      "metadata": {
        "id": "yws9mv4fp_rG"
      },
      "execution_count": null,
      "outputs": []
    },
    {
      "cell_type": "code",
      "source": [
        "padded_inputs_X = tensorflow.keras.preprocessing.sequence.pad_sequences(\n",
        "    testing_X, padding=\"post\", value=special_value\n",
        ")"
      ],
      "metadata": {
        "id": "bNXwEmc0qMQs"
      },
      "execution_count": null,
      "outputs": []
    },
    {
      "cell_type": "code",
      "source": [
        "padded_outputs_y = tensorflow.keras.preprocessing.sequence.pad_sequences(\n",
        "    testing_y, padding=\"post\", value=special_value\n",
        ")"
      ],
      "metadata": {
        "id": "H4oJ-g20qNC2"
      },
      "execution_count": null,
      "outputs": []
    },
    {
      "cell_type": "code",
      "source": [
        "testing_data = []\n",
        "testing_X = []\n",
        "testing_y = []\n",
        "gc.collect()"
      ],
      "metadata": {
        "colab": {
          "base_uri": "https://localhost:8080/"
        },
        "id": "8-AF6FFrb-Ll",
        "outputId": "ad976803-2a92-42e6-f5be-0fda4d325652"
      },
      "execution_count": null,
      "outputs": [
        {
          "output_type": "execute_result",
          "data": {
            "text/plain": [
              "1210"
            ]
          },
          "metadata": {},
          "execution_count": 20
        }
      ]
    },
    {
      "cell_type": "code",
      "source": [
        "LSTM_model.evaluate([padded_inputs_X, padded_inputs_test], padded_outputs_y)"
      ],
      "metadata": {
        "colab": {
          "base_uri": "https://localhost:8080/"
        },
        "id": "6hiKJFpHo_3o",
        "outputId": "20bb97af-7c08-4903-a98f-6175197a4f0a"
      },
      "execution_count": null,
      "outputs": [
        {
          "output_type": "stream",
          "name": "stdout",
          "text": [
            "2/2 [==============================] - 1s 43ms/step - loss: 0.0288 - mean_absolute_error: 0.0875\n"
          ]
        },
        {
          "output_type": "execute_result",
          "data": {
            "text/plain": [
              "[0.02878500334918499, 0.08747684210538864]"
            ]
          },
          "metadata": {},
          "execution_count": 24
        }
      ]
    },
    {
      "cell_type": "code",
      "source": [
        "LSTM_model.save(\"/content/drive/MyDrive/new_model_RNN_1\")"
      ],
      "metadata": {
        "id": "xQ_CdiAKvB6-",
        "colab": {
          "base_uri": "https://localhost:8080/"
        },
        "outputId": "f386c745-42e3-47de-b0b2-d8c79bca197d"
      },
      "execution_count": 20,
      "outputs": [
        {
          "output_type": "stream",
          "name": "stdout",
          "text": [
            "INFO:tensorflow:Assets written to: /content/drive/MyDrive/new_model_RNN_1/assets\n"
          ]
        }
      ]
    }
  ]
}