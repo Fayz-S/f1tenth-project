{
  "nbformat": 4,
  "nbformat_minor": 0,
  "metadata": {
    "colab": {
      "name": "Untitled0.ipynb",
      "provenance": [],
      "collapsed_sections": [],
      "mount_file_id": "1g908I9FjWRAWAz2ybGyX4ZOjDzNFhs4d",
      "authorship_tag": "ABX9TyPgMXtcqG8U5QfqCPqgAwWc",
      "include_colab_link": true
    },
    "kernelspec": {
      "name": "python3",
      "display_name": "Python 3"
    },
    "language_info": {
      "name": "python"
    },
    "accelerator": "GPU"
  },
  "cells": [
    {
      "cell_type": "markdown",
      "metadata": {
        "id": "view-in-github",
        "colab_type": "text"
      },
      "source": [
        "<a href=\"https://colab.research.google.com/github/JZ76/f1tenth_simulator_two_agents/blob/master/Untitled0.ipynb\" target=\"_parent\"><img src=\"https://colab.research.google.com/assets/colab-badge.svg\" alt=\"Open In Colab\"/></a>"
      ]
    },
    {
      "cell_type": "code",
      "source": [
        "%tensorflow_version 1.x"
      ],
      "metadata": {
        "colab": {
          "base_uri": "https://localhost:8080/"
        },
        "id": "keK9rSocIyTL",
        "outputId": "6427060c-8c70-481f-f046-f9b451807c69"
      },
      "execution_count": 1,
      "outputs": [
        {
          "output_type": "stream",
          "name": "stdout",
          "text": [
            "TensorFlow 1.x selected.\n"
          ]
        }
      ]
    },
    {
      "cell_type": "code",
      "source": [
        "pip install -U numpy==1.18.5"
      ],
      "metadata": {
        "colab": {
          "base_uri": "https://localhost:8080/"
        },
        "id": "59g-KUSOjrdR",
        "outputId": "abbd565c-926e-4326-e3b6-c42796366195"
      },
      "execution_count": 2,
      "outputs": [
        {
          "output_type": "stream",
          "name": "stdout",
          "text": [
            "Looking in indexes: https://pypi.org/simple, https://us-python.pkg.dev/colab-wheels/public/simple/\n",
            "Requirement already satisfied: numpy==1.18.5 in /usr/local/lib/python3.7/dist-packages (1.18.5)\n"
          ]
        }
      ]
    },
    {
      "cell_type": "code",
      "source": [
        "import tensorflow\n",
        "print(tensorflow.__version__)"
      ],
      "metadata": {
        "colab": {
          "base_uri": "https://localhost:8080/"
        },
        "id": "HjSLPTNCItg2",
        "outputId": "2c443a45-9746-4e6a-d7a0-c375bf0d3ffe"
      },
      "execution_count": 3,
      "outputs": [
        {
          "output_type": "stream",
          "name": "stdout",
          "text": [
            "1.15.2\n"
          ]
        }
      ]
    },
    {
      "cell_type": "code",
      "execution_count": 4,
      "metadata": {
        "id": "3H6GBlaC8kVo"
      },
      "outputs": [],
      "source": [
        "import numpy as np\n",
        "import pandas as pd\n",
        "import matplotlib.pyplot as plt\n",
        "\n",
        "\n",
        "from tensorflow.keras.models import Sequential\n",
        "from tensorflow.keras.layers import LSTM, Dense, Input, CuDNNLSTM, Masking, Embedding\n",
        "\n",
        "import os\n",
        "import re\n",
        "import gc"
      ]
    },
    {
      "cell_type": "code",
      "source": [
        "def loading_data(folder):\n",
        "    check_name = re.compile('^ML')\n",
        "    datasets = []\n",
        "    for filename in os.listdir(folder):\n",
        "        files = os.path.join(folder, filename)\n",
        "        if re.match(check_name, filename) and os.path.isfile(files):\n",
        "            datasets.append(np.array(pd.read_csv(files, skiprows=1, header=None).iloc[:, :-1], dtype=float))\n",
        "\n",
        "    gc.collect()\n",
        "    return datasets"
      ],
      "metadata": {
        "id": "qbyrkpPFFCFK"
      },
      "execution_count": 5,
      "outputs": []
    },
    {
      "cell_type": "code",
      "source": [
        "folder = \"/content/drive/MyDrive/datasets\"\n",
        "datasets = loading_data(folder)\n",
        "\n",
        "training_data = datasets[:50]\n",
        "testing_data = datasets[50:70]"
      ],
      "metadata": {
        "id": "YCJQh8HmFWmR"
      },
      "execution_count": 6,
      "outputs": []
    },
    {
      "cell_type": "code",
      "source": [
        "X = []\n",
        "y = []\n",
        "max_seq_len = 0\n",
        "for x in training_data:\n",
        "    X.append(x[:, 2:])\n",
        "    y.append(x[:, 0:2])\n",
        "    max_seq_len = max(max_seq_len, x.shape[0])"
      ],
      "metadata": {
        "id": "vccjXNqZge2n"
      },
      "execution_count": 7,
      "outputs": []
    },
    {
      "cell_type": "code",
      "source": [
        "special_value = -100.0"
      ],
      "metadata": {
        "id": "lds_5E2QhIu2"
      },
      "execution_count": 8,
      "outputs": []
    },
    {
      "cell_type": "code",
      "source": [
        "padded_inputs = tensorflow.keras.preprocessing.sequence.pad_sequences(\n",
        "    X, padding=\"post\", value=special_value\n",
        ")"
      ],
      "metadata": {
        "id": "bKOfIl6-JEgW"
      },
      "execution_count": 9,
      "outputs": []
    },
    {
      "cell_type": "code",
      "source": [
        "padded_outputs = tensorflow.keras.preprocessing.sequence.pad_sequences(\n",
        "    y, padding=\"post\", value=special_value\n",
        ")"
      ],
      "metadata": {
        "id": "l985mVrylk7H"
      },
      "execution_count": 12,
      "outputs": []
    },
    {
      "cell_type": "code",
      "source": [
        "Xpad = []\n",
        "ypad = []\n",
        "for i in range(100):\n",
        "    Xpad.append(np.full((max_seq_len, 1081), fill_value=special_value))\n",
        "    ypad.append(np.full((max_seq_len, 2), fill_value=special_value))\n",
        "\n",
        "for s, x in enumerate(X):\n",
        "    seq_len = x.shape[0]\n",
        "    Xpad[s][0:seq_len, :] = x\n",
        "\n",
        "for s, x in enumerate(y):\n",
        "    seq_len = x.shape[0]\n",
        "    ypad[s][0:seq_len, :] = x"
      ],
      "metadata": {
        "id": "N4nDQ-xFh5rL"
      },
      "execution_count": null,
      "outputs": []
    },
    {
      "cell_type": "code",
      "source": [
        "LSTM_model = Sequential([\n",
        "        #Masking(input_shape=(None, 1081), mask_value=special_value),\n",
        "        CuDNNLSTM(20, return_sequences=True, input_shape=(None, 1081)),\n",
        "        CuDNNLSTM(8, return_sequences=True),\n",
        "        Dense(2)\n",
        "])\n"
      ],
      "metadata": {
        "id": "o0Ol5sJtgp0i"
      },
      "execution_count": 21,
      "outputs": []
    },
    {
      "cell_type": "code",
      "source": [
        "LSTM_model.compile(loss=\"mean_absolute_error\", optimizer=\"adam\", metrics=['mean_absolute_error'])\n",
        "LSTM_model.summary()\n",
        "LSTM_model.fit(padded_inputs, padded_outputs, epochs=5, batch_size=5)"
      ],
      "metadata": {
        "colab": {
          "base_uri": "https://localhost:8080/"
        },
        "id": "4BVEOqXghYlh",
        "outputId": "fada7511-72d6-452d-8c20-356b07bf6847"
      },
      "execution_count": 22,
      "outputs": [
        {
          "output_type": "stream",
          "name": "stdout",
          "text": [
            "Model: \"sequential_4\"\n",
            "_________________________________________________________________\n",
            "Layer (type)                 Output Shape              Param #   \n",
            "=================================================================\n",
            "cu_dnnlstm_3 (CuDNNLSTM)     (None, None, 20)          88240     \n",
            "_________________________________________________________________\n",
            "cu_dnnlstm_4 (CuDNNLSTM)     (None, None, 8)           960       \n",
            "_________________________________________________________________\n",
            "dense_4 (Dense)              (None, None, 2)           18        \n",
            "=================================================================\n",
            "Total params: 89,218\n",
            "Trainable params: 89,218\n",
            "Non-trainable params: 0\n",
            "_________________________________________________________________\n",
            "Train on 50 samples\n",
            "Epoch 1/5\n",
            "50/50 [==============================] - 11s 210ms/sample - loss: 74.2996 - mean_absolute_error: 74.2996\n",
            "Epoch 2/5\n",
            "50/50 [==============================] - 2s 48ms/sample - loss: 73.8491 - mean_absolute_error: 73.8491\n",
            "Epoch 3/5\n",
            "50/50 [==============================] - 2s 48ms/sample - loss: 73.6616 - mean_absolute_error: 73.6616\n",
            "Epoch 4/5\n",
            "50/50 [==============================] - 2s 48ms/sample - loss: 73.4813 - mean_absolute_error: 73.4813\n",
            "Epoch 5/5\n",
            "50/50 [==============================] - 2s 48ms/sample - loss: 73.3290 - mean_absolute_error: 73.3290\n"
          ]
        },
        {
          "output_type": "execute_result",
          "data": {
            "text/plain": [
              "<tensorflow.python.keras.callbacks.History at 0x7fd4d4b6c850>"
            ]
          },
          "metadata": {},
          "execution_count": 22
        }
      ]
    }
  ]
}