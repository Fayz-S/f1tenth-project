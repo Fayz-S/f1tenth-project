{
  "nbformat": 4,
  "nbformat_minor": 0,
  "metadata": {
    "colab": {
      "name": "Untitled0.ipynb",
      "provenance": [],
      "collapsed_sections": [],
      "mount_file_id": "1g908I9FjWRAWAz2ybGyX4ZOjDzNFhs4d",
      "authorship_tag": "ABX9TyNtieXFw3hfvmUsePpD5l0i",
      "include_colab_link": true
    },
    "kernelspec": {
      "name": "python3",
      "display_name": "Python 3"
    },
    "language_info": {
      "name": "python"
    },
    "accelerator": "GPU"
  },
  "cells": [
    {
      "cell_type": "markdown",
      "metadata": {
        "id": "view-in-github",
        "colab_type": "text"
      },
      "source": [
        "<a href=\"https://colab.research.google.com/github/JZ76/f1tenth_simulator_two_agents/blob/master/Untitled0.ipynb\" target=\"_parent\"><img src=\"https://colab.research.google.com/assets/colab-badge.svg\" alt=\"Open In Colab\"/></a>"
      ]
    },
    {
      "cell_type": "code",
      "source": [
        "%tensorflow_version 1.x"
      ],
      "metadata": {
        "colab": {
          "base_uri": "https://localhost:8080/"
        },
        "id": "keK9rSocIyTL",
        "outputId": "6427060c-8c70-481f-f046-f9b451807c69"
      },
      "execution_count": 1,
      "outputs": [
        {
          "output_type": "stream",
          "name": "stdout",
          "text": [
            "TensorFlow 1.x selected.\n"
          ]
        }
      ]
    },
    {
      "cell_type": "code",
      "source": [
        "pip install -U numpy==1.18.5"
      ],
      "metadata": {
        "colab": {
          "base_uri": "https://localhost:8080/"
        },
        "id": "59g-KUSOjrdR",
        "outputId": "abbd565c-926e-4326-e3b6-c42796366195"
      },
      "execution_count": 2,
      "outputs": [
        {
          "output_type": "stream",
          "name": "stdout",
          "text": [
            "Looking in indexes: https://pypi.org/simple, https://us-python.pkg.dev/colab-wheels/public/simple/\n",
            "Requirement already satisfied: numpy==1.18.5 in /usr/local/lib/python3.7/dist-packages (1.18.5)\n"
          ]
        }
      ]
    },
    {
      "cell_type": "code",
      "source": [
        "import tensorflow\n",
        "print(tensorflow.__version__)"
      ],
      "metadata": {
        "colab": {
          "base_uri": "https://localhost:8080/"
        },
        "id": "HjSLPTNCItg2",
        "outputId": "2c443a45-9746-4e6a-d7a0-c375bf0d3ffe"
      },
      "execution_count": 3,
      "outputs": [
        {
          "output_type": "stream",
          "name": "stdout",
          "text": [
            "1.15.2\n"
          ]
        }
      ]
    },
    {
      "cell_type": "code",
      "execution_count": 4,
      "metadata": {
        "id": "3H6GBlaC8kVo"
      },
      "outputs": [],
      "source": [
        "import numpy as np\n",
        "import pandas as pd\n",
        "import matplotlib.pyplot as plt\n",
        "\n",
        "\n",
        "from tensorflow.keras.models import Sequential\n",
        "from tensorflow.keras.layers import LSTM, Dense, Input, CuDNNLSTM, Masking, Embedding\n",
        "\n",
        "import os\n",
        "import re\n",
        "import gc"
      ]
    },
    {
      "cell_type": "code",
      "source": [
        "def loading_data(folder):\n",
        "    check_name = re.compile('^ML')\n",
        "    datasets = []\n",
        "    for filename in os.listdir(folder):\n",
        "        files = os.path.join(folder, filename)\n",
        "        if re.match(check_name, filename) and os.path.isfile(files):\n",
        "            datasets.append(np.array(pd.read_csv(files, skiprows=1, header=None).iloc[:, :-1], dtype=float))\n",
        "\n",
        "    gc.collect()\n",
        "    return datasets"
      ],
      "metadata": {
        "id": "qbyrkpPFFCFK"
      },
      "execution_count": 5,
      "outputs": []
    },
    {
      "cell_type": "code",
      "source": [
        "folder = \"/content/drive/MyDrive/datasets\"\n",
        "datasets = loading_data(folder)"
      ],
      "metadata": {
        "id": "YCJQh8HmFWmR"
      },
      "execution_count": 6,
      "outputs": []
    },
    {
      "cell_type": "code",
      "source": [
        "training_data = datasets[:50]\n",
        "testing_data = datasets[50:70]"
      ],
      "metadata": {
        "id": "TNdLpRpOnrAr"
      },
      "execution_count": null,
      "outputs": []
    },
    {
      "cell_type": "code",
      "source": [
        "X = []\n",
        "y = []\n",
        "max_seq_len = 0\n",
        "for x in training_data:\n",
        "    X.append(x[:, 2:])\n",
        "    y.append(x[:, 0:2])\n",
        "    max_seq_len = max(max_seq_len, x.shape[0])"
      ],
      "metadata": {
        "id": "vccjXNqZge2n"
      },
      "execution_count": 7,
      "outputs": []
    },
    {
      "cell_type": "code",
      "source": [
        "special_value = -100.0"
      ],
      "metadata": {
        "id": "lds_5E2QhIu2"
      },
      "execution_count": 8,
      "outputs": []
    },
    {
      "cell_type": "code",
      "source": [
        "padded_inputs = tensorflow.keras.preprocessing.sequence.pad_sequences(\n",
        "    X, padding=\"post\", value=special_value\n",
        ")"
      ],
      "metadata": {
        "id": "bKOfIl6-JEgW"
      },
      "execution_count": 9,
      "outputs": []
    },
    {
      "cell_type": "code",
      "source": [
        "padded_outputs = tensorflow.keras.preprocessing.sequence.pad_sequences(\n",
        "    y, padding=\"post\", value=special_value\n",
        ")"
      ],
      "metadata": {
        "id": "l985mVrylk7H"
      },
      "execution_count": 12,
      "outputs": []
    },
    {
      "cell_type": "code",
      "source": [
        "Xpad = []\n",
        "ypad = []\n",
        "for i in range(100):\n",
        "    Xpad.append(np.full((max_seq_len, 1081), fill_value=special_value))\n",
        "    ypad.append(np.full((max_seq_len, 2), fill_value=special_value))\n",
        "\n",
        "for s, x in enumerate(X):\n",
        "    seq_len = x.shape[0]\n",
        "    Xpad[s][0:seq_len, :] = x\n",
        "\n",
        "for s, x in enumerate(y):\n",
        "    seq_len = x.shape[0]\n",
        "    ypad[s][0:seq_len, :] = x"
      ],
      "metadata": {
        "id": "N4nDQ-xFh5rL"
      },
      "execution_count": null,
      "outputs": []
    },
    {
      "cell_type": "code",
      "source": [
        "LSTM_model = Sequential([\n",
        "        Masking(input_shape=(None, 1081), mask_value=special_value),\n",
        "        LSTM(20, return_sequences=True, input_shape=(None, 1081)),\n",
        "        LSTM(8, return_sequences=True),\n",
        "        Dense(2)\n",
        "])\n"
      ],
      "metadata": {
        "id": "o0Ol5sJtgp0i"
      },
      "execution_count": 23,
      "outputs": []
    },
    {
      "cell_type": "code",
      "source": [
        "LSTM_model.compile(loss=\"mean_absolute_error\", optimizer=\"adam\", metrics=['mean_absolute_error'])\n",
        "LSTM_model.summary()\n",
        "LSTM_model.fit(padded_inputs, padded_outputs, epochs=5, batch_size=5)"
      ],
      "metadata": {
        "colab": {
          "base_uri": "https://localhost:8080/"
        },
        "id": "4BVEOqXghYlh",
        "outputId": "51f3dac0-d26e-423d-ca2f-99061118e4d8"
      },
      "execution_count": 24,
      "outputs": [
        {
          "output_type": "stream",
          "name": "stdout",
          "text": [
            "Model: \"sequential_5\"\n",
            "_________________________________________________________________\n",
            "Layer (type)                 Output Shape              Param #   \n",
            "=================================================================\n",
            "masking_2 (Masking)          (None, None, 1081)        0         \n",
            "_________________________________________________________________\n",
            "lstm_1 (LSTM)                (None, None, 20)          88160     \n",
            "_________________________________________________________________\n",
            "lstm_2 (LSTM)                (None, None, 8)           928       \n",
            "_________________________________________________________________\n",
            "dense_5 (Dense)              (None, None, 2)           18        \n",
            "=================================================================\n",
            "Total params: 89,106\n",
            "Trainable params: 89,106\n",
            "Non-trainable params: 0\n",
            "_________________________________________________________________\n",
            "Train on 50 samples\n",
            "Epoch 1/5\n",
            "50/50 [==============================] - 246s 5s/sample - loss: 2.0348 - mean_absolute_error: 7.3856\n",
            "Epoch 2/5\n",
            "50/50 [==============================] - 245s 5s/sample - loss: 1.9728 - mean_absolute_error: 7.1605\n",
            "Epoch 3/5\n",
            "50/50 [==============================] - 263s 5s/sample - loss: 1.9190 - mean_absolute_error: 6.9652\n",
            "Epoch 4/5\n",
            "50/50 [==============================] - 242s 5s/sample - loss: 1.8543 - mean_absolute_error: 6.7306\n",
            "Epoch 5/5\n",
            "50/50 [==============================] - 248s 5s/sample - loss: 1.7985 - mean_absolute_error: 6.5280\n"
          ]
        },
        {
          "output_type": "execute_result",
          "data": {
            "text/plain": [
              "<tensorflow.python.keras.callbacks.History at 0x7fd4d43a0ed0>"
            ]
          },
          "metadata": {},
          "execution_count": 24
        }
      ]
    },
    {
      "cell_type": "code",
      "source": [
        "testing_X = []\n",
        "testing_y = []\n",
        "\n",
        "for x in testing_data:\n",
        "    testing_X.append(x[:, 2:])\n",
        "    testing_y.append(x[:, 0:2])\n",
        "    "
      ],
      "metadata": {
        "id": "yws9mv4fp_rG"
      },
      "execution_count": 25,
      "outputs": []
    },
    {
      "cell_type": "code",
      "source": [
        "padded_inputs = tensorflow.keras.preprocessing.sequence.pad_sequences(\n",
        "    testing_X, padding=\"post\", value=special_value\n",
        ")"
      ],
      "metadata": {
        "id": "bNXwEmc0qMQs"
      },
      "execution_count": 26,
      "outputs": []
    },
    {
      "cell_type": "code",
      "source": [
        "padded_outputs = tensorflow.keras.preprocessing.sequence.pad_sequences(\n",
        "    testing_y, padding=\"post\", value=special_value\n",
        ")"
      ],
      "metadata": {
        "id": "H4oJ-g20qNC2"
      },
      "execution_count": 27,
      "outputs": []
    },
    {
      "cell_type": "code",
      "source": [
        "print(padded_outputs)"
      ],
      "metadata": {
        "id": "VHubsjXJsiDe",
        "outputId": "cd8c5724-c598-46d6-f652-1523b34191cd",
        "colab": {
          "base_uri": "https://localhost:8080/"
        }
      },
      "execution_count": 32,
      "outputs": [
        {
          "output_type": "stream",
          "name": "stdout",
          "text": [
            "[[[  16    0]\n",
            "  [  16    0]\n",
            "  [  16    0]\n",
            "  ...\n",
            "  [-100 -100]\n",
            "  [-100 -100]\n",
            "  [-100 -100]]\n",
            "\n",
            " [[  16    0]\n",
            "  [  16    0]\n",
            "  [  16    0]\n",
            "  ...\n",
            "  [-100 -100]\n",
            "  [-100 -100]\n",
            "  [-100 -100]]\n",
            "\n",
            " [[  12    0]\n",
            "  [  12    0]\n",
            "  [  12    0]\n",
            "  ...\n",
            "  [-100 -100]\n",
            "  [-100 -100]\n",
            "  [-100 -100]]\n",
            "\n",
            " ...\n",
            "\n",
            " [[  16    0]\n",
            "  [  16    0]\n",
            "  [  16    0]\n",
            "  ...\n",
            "  [-100 -100]\n",
            "  [-100 -100]\n",
            "  [-100 -100]]\n",
            "\n",
            " [[  16    0]\n",
            "  [  16    0]\n",
            "  [  16    0]\n",
            "  ...\n",
            "  [-100 -100]\n",
            "  [-100 -100]\n",
            "  [-100 -100]]\n",
            "\n",
            " [[  16    0]\n",
            "  [  16    0]\n",
            "  [  16    0]\n",
            "  ...\n",
            "  [-100 -100]\n",
            "  [-100 -100]\n",
            "  [-100 -100]]]\n"
          ]
        }
      ]
    },
    {
      "cell_type": "code",
      "source": [
        "LSTM_model.evaluate(padded_inputs, padded_outputs)"
      ],
      "metadata": {
        "id": "6hiKJFpHo_3o",
        "outputId": "6b458a49-7dfe-439b-dbe9-ef6683e63def",
        "colab": {
          "base_uri": "https://localhost:8080/"
        }
      },
      "execution_count": 31,
      "outputs": [
        {
          "output_type": "stream",
          "name": "stdout",
          "text": [
            "\r20/20 [==============================] - 23s 1s/sample - loss: 0.9710 - mean_absolute_error: 6.5826\n"
          ]
        },
        {
          "output_type": "execute_result",
          "data": {
            "text/plain": [
              "[0.9710265398025513, 6.5826387]"
            ]
          },
          "metadata": {},
          "execution_count": 31
        }
      ]
    }
  ]
}