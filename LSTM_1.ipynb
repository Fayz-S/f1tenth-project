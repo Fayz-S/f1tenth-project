{
  "nbformat": 4,
  "nbformat_minor": 0,
  "metadata": {
    "colab": {
      "name": "Untitled0.ipynb",
      "provenance": [],
      "collapsed_sections": [],
      "mount_file_id": "1g908I9FjWRAWAz2ybGyX4ZOjDzNFhs4d",
      "authorship_tag": "ABX9TyOLChC5o7ppp4k+7678Klqx",
      "include_colab_link": true
    },
    "kernelspec": {
      "name": "python3",
      "display_name": "Python 3"
    },
    "language_info": {
      "name": "python"
    },
    "accelerator": "GPU"
  },
  "cells": [
    {
      "cell_type": "markdown",
      "metadata": {
        "id": "view-in-github",
        "colab_type": "text"
      },
      "source": [
        "<a href=\"https://colab.research.google.com/github/JZ76/f1tenth_simulator_two_agents/blob/master/LSTM_1.ipynb\" target=\"_parent\"><img src=\"https://colab.research.google.com/assets/colab-badge.svg\" alt=\"Open In Colab\"/></a>"
      ]
    },
    {
      "cell_type": "code",
      "source": [
        "%tensorflow_version 1.x"
      ],
      "metadata": {
        "colab": {
          "base_uri": "https://localhost:8080/"
        },
        "id": "keK9rSocIyTL",
        "outputId": "0bef8764-30a0-452d-b527-8da7943ca9ba"
      },
      "execution_count": 1,
      "outputs": [
        {
          "output_type": "stream",
          "name": "stdout",
          "text": [
            "TensorFlow 1.x selected.\n"
          ]
        }
      ]
    },
    {
      "cell_type": "code",
      "source": [
        "pip install -U numpy==1.18.5"
      ],
      "metadata": {
        "colab": {
          "base_uri": "https://localhost:8080/"
        },
        "id": "59g-KUSOjrdR",
        "outputId": "abbd565c-926e-4326-e3b6-c42796366195"
      },
      "execution_count": 2,
      "outputs": [
        {
          "output_type": "stream",
          "name": "stdout",
          "text": [
            "Looking in indexes: https://pypi.org/simple, https://us-python.pkg.dev/colab-wheels/public/simple/\n",
            "Requirement already satisfied: numpy==1.18.5 in /usr/local/lib/python3.7/dist-packages (1.18.5)\n"
          ]
        }
      ]
    },
    {
      "cell_type": "code",
      "source": [
        "import tensorflow\n",
        "print(tensorflow.__version__)"
      ],
      "metadata": {
        "colab": {
          "base_uri": "https://localhost:8080/"
        },
        "id": "HjSLPTNCItg2",
        "outputId": "7bfb3597-9951-4b66-a37b-797a14edfeba"
      },
      "execution_count": 1,
      "outputs": [
        {
          "output_type": "stream",
          "name": "stdout",
          "text": [
            "2.8.2\n"
          ]
        }
      ]
    },
    {
      "cell_type": "code",
      "execution_count": 2,
      "metadata": {
        "id": "3H6GBlaC8kVo"
      },
      "outputs": [],
      "source": [
        "import numpy as np\n",
        "import pandas as pd\n",
        "import matplotlib.pyplot as plt\n",
        "\n",
        "\n",
        "from tensorflow.python.keras.models import Sequential\n",
        "from tensorflow.python.keras.layers import LSTM, Dense, Input, CuDNNLSTM, Masking, Embedding\n",
        "\n",
        "import os\n",
        "import re\n",
        "import gc"
      ]
    },
    {
      "cell_type": "code",
      "source": [
        "def loading_data(folder):\n",
        "    check_name = re.compile('^ML')\n",
        "    datasets = []\n",
        "    for filename in os.listdir(folder):\n",
        "        files = os.path.join(folder, filename)\n",
        "        if re.match(check_name, filename) and os.path.isfile(files):\n",
        "            datasets.append(np.array(pd.read_csv(files, skiprows=1, header=None).iloc[:, :-1], dtype=float))\n",
        "\n",
        "    gc.collect()\n",
        "    return datasets"
      ],
      "metadata": {
        "id": "qbyrkpPFFCFK"
      },
      "execution_count": 3,
      "outputs": []
    },
    {
      "cell_type": "code",
      "source": [
        "folder = \"/content/drive/MyDrive/datasets\"\n",
        "datasets = loading_data(folder)"
      ],
      "metadata": {
        "id": "YCJQh8HmFWmR"
      },
      "execution_count": 4,
      "outputs": []
    },
    {
      "cell_type": "code",
      "source": [
        "training_data = datasets[:30]\n",
        "testing_data = datasets[30:50]"
      ],
      "metadata": {
        "id": "TNdLpRpOnrAr"
      },
      "execution_count": 5,
      "outputs": []
    },
    {
      "cell_type": "code",
      "source": [
        "X = []\n",
        "y = []\n",
        "max_seq_len = 0\n",
        "for x in training_data:\n",
        "    X.append(x[:, 2:])\n",
        "    y.append(x[:, 0:2])\n",
        "    max_seq_len = max(max_seq_len, x.shape[0])"
      ],
      "metadata": {
        "id": "vccjXNqZge2n"
      },
      "execution_count": 6,
      "outputs": []
    },
    {
      "cell_type": "code",
      "source": [
        "special_value = -100.0"
      ],
      "metadata": {
        "id": "lds_5E2QhIu2"
      },
      "execution_count": 7,
      "outputs": []
    },
    {
      "cell_type": "code",
      "source": [
        "padded_inputs = tensorflow.keras.preprocessing.sequence.pad_sequences(\n",
        "    X, padding=\"post\", value=special_value\n",
        ")"
      ],
      "metadata": {
        "id": "bKOfIl6-JEgW"
      },
      "execution_count": 9,
      "outputs": []
    },
    {
      "cell_type": "code",
      "source": [
        "padded_outputs = tensorflow.keras.preprocessing.sequence.pad_sequences(\n",
        "    y, padding=\"post\", value=special_value\n",
        ")"
      ],
      "metadata": {
        "id": "l985mVrylk7H"
      },
      "execution_count": 12,
      "outputs": []
    },
    {
      "cell_type": "code",
      "source": [
        "Xpad = []\n",
        "ypad = []\n",
        "for i in range(30):\n",
        "    Xpad.append(np.full((max_seq_len, 1081), fill_value=special_value))\n",
        "    ypad.append(np.full((max_seq_len, 2), fill_value=special_value))\n",
        "\n",
        "for s, x in enumerate(X):\n",
        "    seq_len = x.shape[0]\n",
        "    Xpad[s][0:seq_len, :] = x\n",
        "\n",
        "for s, x in enumerate(y):\n",
        "    seq_len = x.shape[0]\n",
        "    ypad[s][0:seq_len, :] = x"
      ],
      "metadata": {
        "id": "N4nDQ-xFh5rL"
      },
      "execution_count": 8,
      "outputs": []
    },
    {
      "cell_type": "code",
      "source": [
        "training_data = []\n",
        "X = []\n",
        "y = []\n",
        "gc.collect()\n"
      ],
      "metadata": {
        "id": "ceWJcXCoz6Lj",
        "outputId": "bf723db3-e3e7-498a-b5f7-0a209a5cc3b6",
        "colab": {
          "base_uri": "https://localhost:8080/"
        }
      },
      "execution_count": 9,
      "outputs": [
        {
          "output_type": "execute_result",
          "data": {
            "text/plain": [
              "200"
            ]
          },
          "metadata": {},
          "execution_count": 9
        }
      ]
    },
    {
      "cell_type": "code",
      "source": [
        "Xpad = np.asarray(Xpad)\n",
        "ypad = np.asarray(ypad)"
      ],
      "metadata": {
        "id": "gcmfqwot3lZf"
      },
      "execution_count": 12,
      "outputs": []
    },
    {
      "cell_type": "code",
      "source": [
        "LSTM_model = Sequential([\n",
        "        Masking(input_shape=(max_seq_len, 1081), mask_value=special_value),\n",
        "        LSTM(20, return_sequences=True, input_shape=(None, 1081)),\n",
        "        LSTM(8, return_sequences=True),\n",
        "        Dense(2)\n",
        "])\n"
      ],
      "metadata": {
        "id": "o0Ol5sJtgp0i"
      },
      "execution_count": 14,
      "outputs": []
    },
    {
      "cell_type": "code",
      "source": [
        "LSTM_model.compile(loss=\"mean_absolute_error\", optimizer=\"adam\", metrics=['mean_absolute_error'])\n",
        "LSTM_model.summary()\n",
        "LSTM_model.fit(Xpad, ypad, epochs=2, batch_size=5)"
      ],
      "metadata": {
        "colab": {
          "base_uri": "https://localhost:8080/"
        },
        "id": "4BVEOqXghYlh",
        "outputId": "f938f21e-884c-4639-f917-10b83c2e34a9"
      },
      "execution_count": 15,
      "outputs": [
        {
          "output_type": "stream",
          "name": "stdout",
          "text": [
            "Model: \"sequential_1\"\n",
            "_________________________________________________________________\n",
            "Layer (type)                 Output Shape              Param #   \n",
            "=================================================================\n",
            "masking_1 (Masking)          (None, 3514, 1081)        0         \n",
            "_________________________________________________________________\n",
            "lstm_2 (LSTM)                (None, 3514, 20)          88160     \n",
            "_________________________________________________________________\n",
            "lstm_3 (LSTM)                (None, 3514, 8)           928       \n",
            "_________________________________________________________________\n",
            "dense_1 (Dense)              (None, 3514, 2)           18        \n",
            "=================================================================\n",
            "Total params: 89,106\n",
            "Trainable params: 89,106\n",
            "Non-trainable params: 0\n",
            "_________________________________________________________________\n",
            "Epoch 1/2\n",
            "6/6 [==============================] - 97s 16s/step - loss: 2.8210 - mean_absolute_error: 7.4888\n",
            "Epoch 2/2\n",
            "6/6 [==============================] - 96s 16s/step - loss: 2.7112 - mean_absolute_error: 7.1973\n"
          ]
        },
        {
          "output_type": "execute_result",
          "data": {
            "text/plain": [
              "<tensorflow.python.keras.callbacks.History at 0x7fc53a682450>"
            ]
          },
          "metadata": {},
          "execution_count": 15
        }
      ]
    },
    {
      "cell_type": "code",
      "source": [
        "testing_X = []\n",
        "testing_y = []\n",
        "\n",
        "for x in testing_data:\n",
        "    testing_X.append(x[:, 2:])\n",
        "    testing_y.append(x[:, 0:2])\n",
        "    "
      ],
      "metadata": {
        "id": "yws9mv4fp_rG"
      },
      "execution_count": 16,
      "outputs": []
    },
    {
      "cell_type": "code",
      "source": [
        "padded_inputs = tensorflow.keras.preprocessing.sequence.pad_sequences(\n",
        "    testing_X, padding=\"post\", value=special_value\n",
        ")"
      ],
      "metadata": {
        "id": "bNXwEmc0qMQs"
      },
      "execution_count": 17,
      "outputs": []
    },
    {
      "cell_type": "code",
      "source": [
        "padded_outputs = tensorflow.keras.preprocessing.sequence.pad_sequences(\n",
        "    testing_y, padding=\"post\", value=special_value\n",
        ")"
      ],
      "metadata": {
        "id": "H4oJ-g20qNC2"
      },
      "execution_count": 18,
      "outputs": []
    },
    {
      "cell_type": "code",
      "source": [
        "print(padded_outputs)"
      ],
      "metadata": {
        "colab": {
          "base_uri": "https://localhost:8080/"
        },
        "id": "VHubsjXJsiDe",
        "outputId": "cd8c5724-c598-46d6-f652-1523b34191cd"
      },
      "execution_count": 32,
      "outputs": [
        {
          "output_type": "stream",
          "name": "stdout",
          "text": [
            "[[[  16    0]\n",
            "  [  16    0]\n",
            "  [  16    0]\n",
            "  ...\n",
            "  [-100 -100]\n",
            "  [-100 -100]\n",
            "  [-100 -100]]\n",
            "\n",
            " [[  16    0]\n",
            "  [  16    0]\n",
            "  [  16    0]\n",
            "  ...\n",
            "  [-100 -100]\n",
            "  [-100 -100]\n",
            "  [-100 -100]]\n",
            "\n",
            " [[  12    0]\n",
            "  [  12    0]\n",
            "  [  12    0]\n",
            "  ...\n",
            "  [-100 -100]\n",
            "  [-100 -100]\n",
            "  [-100 -100]]\n",
            "\n",
            " ...\n",
            "\n",
            " [[  16    0]\n",
            "  [  16    0]\n",
            "  [  16    0]\n",
            "  ...\n",
            "  [-100 -100]\n",
            "  [-100 -100]\n",
            "  [-100 -100]]\n",
            "\n",
            " [[  16    0]\n",
            "  [  16    0]\n",
            "  [  16    0]\n",
            "  ...\n",
            "  [-100 -100]\n",
            "  [-100 -100]\n",
            "  [-100 -100]]\n",
            "\n",
            " [[  16    0]\n",
            "  [  16    0]\n",
            "  [  16    0]\n",
            "  ...\n",
            "  [-100 -100]\n",
            "  [-100 -100]\n",
            "  [-100 -100]]]\n"
          ]
        }
      ]
    },
    {
      "cell_type": "code",
      "source": [
        "LSTM_model.evaluate(padded_inputs, padded_outputs)"
      ],
      "metadata": {
        "colab": {
          "base_uri": "https://localhost:8080/"
        },
        "id": "6hiKJFpHo_3o",
        "outputId": "90f35348-3190-4b55-c603-5f6e65592c24"
      },
      "execution_count": 19,
      "outputs": [
        {
          "output_type": "stream",
          "name": "stdout",
          "text": [
            "WARNING:tensorflow:Model was constructed with shape (None, 3514, 1081) for input KerasTensor(type_spec=TensorSpec(shape=(None, 3514, 1081), dtype=tf.float32, name='masking_1_input'), name='masking_1_input', description=\"created by layer 'masking_1_input'\"), but it was called on an input with incompatible shape (None, 6014, 1081).\n",
            "1/1 [==============================] - 5s 5s/step - loss: 2.5648 - mean_absolute_error: 7.1521\n"
          ]
        },
        {
          "output_type": "execute_result",
          "data": {
            "text/plain": [
              "[2.564760446548462, 7.152050018310547]"
            ]
          },
          "metadata": {},
          "execution_count": 19
        }
      ]
    },
    {
      "cell_type": "code",
      "source": [
        "LSTM_model.save(\"/content/drive/MyDrive/f1tenth\")"
      ],
      "metadata": {
        "id": "xQ_CdiAKvB6-"
      },
      "execution_count": 34,
      "outputs": []
    }
  ]
}